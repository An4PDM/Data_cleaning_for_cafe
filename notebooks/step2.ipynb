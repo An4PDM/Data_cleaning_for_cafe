{
 "cells": [
  {
   "cell_type": "code",
   "execution_count": 1,
   "id": "e175d583-d532-4e04-bf46-adfa5f5690b3",
   "metadata": {},
   "outputs": [],
   "source": [
    "import pandas as pd\n",
    "import numpy as np"
   ]
  },
  {
   "cell_type": "code",
   "execution_count": 2,
   "id": "878224eb-7b9e-47eb-a7a5-0f53c55098a5",
   "metadata": {},
   "outputs": [
    {
     "data": {
      "text/html": [
       "<div>\n",
       "<style scoped>\n",
       "    .dataframe tbody tr th:only-of-type {\n",
       "        vertical-align: middle;\n",
       "    }\n",
       "\n",
       "    .dataframe tbody tr th {\n",
       "        vertical-align: top;\n",
       "    }\n",
       "\n",
       "    .dataframe thead th {\n",
       "        text-align: right;\n",
       "    }\n",
       "</style>\n",
       "<table border=\"1\" class=\"dataframe\">\n",
       "  <thead>\n",
       "    <tr style=\"text-align: right;\">\n",
       "      <th></th>\n",
       "      <th>Transaction ID</th>\n",
       "      <th>Item</th>\n",
       "      <th>Quantity</th>\n",
       "      <th>Price Per Unit</th>\n",
       "      <th>Total Spent</th>\n",
       "      <th>Payment Method</th>\n",
       "      <th>Location</th>\n",
       "      <th>Transaction Date</th>\n",
       "    </tr>\n",
       "  </thead>\n",
       "  <tbody>\n",
       "    <tr>\n",
       "      <th>0</th>\n",
       "      <td>TXN_1961373</td>\n",
       "      <td>Coffee</td>\n",
       "      <td>2.0</td>\n",
       "      <td>2.0</td>\n",
       "      <td>4.0</td>\n",
       "      <td>Credit Card</td>\n",
       "      <td>Takeaway</td>\n",
       "      <td>2023-09-08</td>\n",
       "    </tr>\n",
       "    <tr>\n",
       "      <th>1</th>\n",
       "      <td>TXN_4977031</td>\n",
       "      <td>Cake</td>\n",
       "      <td>4.0</td>\n",
       "      <td>3.0</td>\n",
       "      <td>12.0</td>\n",
       "      <td>Cash</td>\n",
       "      <td>In-store</td>\n",
       "      <td>2023-05-16</td>\n",
       "    </tr>\n",
       "    <tr>\n",
       "      <th>2</th>\n",
       "      <td>TXN_4271903</td>\n",
       "      <td>Cookie</td>\n",
       "      <td>4.0</td>\n",
       "      <td>1.0</td>\n",
       "      <td>4.0</td>\n",
       "      <td>Credit Card</td>\n",
       "      <td>In-store</td>\n",
       "      <td>2023-07-19</td>\n",
       "    </tr>\n",
       "    <tr>\n",
       "      <th>3</th>\n",
       "      <td>TXN_7034554</td>\n",
       "      <td>Salad</td>\n",
       "      <td>2.0</td>\n",
       "      <td>5.0</td>\n",
       "      <td>10.0</td>\n",
       "      <td>UNKNOWN</td>\n",
       "      <td>UNKNOWN</td>\n",
       "      <td>2023-04-27</td>\n",
       "    </tr>\n",
       "    <tr>\n",
       "      <th>4</th>\n",
       "      <td>TXN_3160411</td>\n",
       "      <td>Coffee</td>\n",
       "      <td>2.0</td>\n",
       "      <td>2.0</td>\n",
       "      <td>4.0</td>\n",
       "      <td>Digital Wallet</td>\n",
       "      <td>In-store</td>\n",
       "      <td>2023-06-11</td>\n",
       "    </tr>\n",
       "  </tbody>\n",
       "</table>\n",
       "</div>"
      ],
      "text/plain": [
       "  Transaction ID    Item  Quantity  Price Per Unit  Total Spent  \\\n",
       "0    TXN_1961373  Coffee       2.0             2.0          4.0   \n",
       "1    TXN_4977031    Cake       4.0             3.0         12.0   \n",
       "2    TXN_4271903  Cookie       4.0             1.0          4.0   \n",
       "3    TXN_7034554   Salad       2.0             5.0         10.0   \n",
       "4    TXN_3160411  Coffee       2.0             2.0          4.0   \n",
       "\n",
       "   Payment Method  Location Transaction Date  \n",
       "0     Credit Card  Takeaway       2023-09-08  \n",
       "1            Cash  In-store       2023-05-16  \n",
       "2     Credit Card  In-store       2023-07-19  \n",
       "3         UNKNOWN   UNKNOWN       2023-04-27  \n",
       "4  Digital Wallet  In-store       2023-06-11  "
      ]
     },
     "execution_count": 2,
     "metadata": {},
     "output_type": "execute_result"
    }
   ],
   "source": [
    "data = pd.read_pickle('../data/data_step1.pkl')\n",
    "data.head()"
   ]
  },
  {
   "cell_type": "code",
   "execution_count": 3,
   "id": "11fdcefe-8756-449b-b334-6b87f4341f69",
   "metadata": {},
   "outputs": [
    {
     "data": {
      "text/plain": [
       "array(['Coffee', 'Cake', 'Cookie', 'Salad', 'Smoothie', 'UNKNOWN',\n",
       "       'Sandwich', nan, 'ERROR', 'Juice', 'Tea'], dtype=object)"
      ]
     },
     "execution_count": 3,
     "metadata": {},
     "output_type": "execute_result"
    }
   ],
   "source": [
    "data['Item'].unique()"
   ]
  },
  {
   "cell_type": "code",
   "execution_count": 3,
   "id": "620473c9-7721-4adb-81aa-93b3321e4f3b",
   "metadata": {},
   "outputs": [
    {
     "data": {
      "text/plain": [
       "array(['Credit Card', 'Cash', 'UNKNOWN', 'Digital Wallet', 'ERROR', nan],\n",
       "      dtype=object)"
      ]
     },
     "execution_count": 3,
     "metadata": {},
     "output_type": "execute_result"
    }
   ],
   "source": [
    "data['Payment Method'].unique()"
   ]
  },
  {
   "cell_type": "code",
   "execution_count": 4,
   "id": "b048c5e8-dcec-4a9d-9c36-cacab40a5a96",
   "metadata": {},
   "outputs": [
    {
     "data": {
      "text/plain": [
       "array(['Takeaway', 'In-store', 'UNKNOWN', nan, 'ERROR'], dtype=object)"
      ]
     },
     "execution_count": 4,
     "metadata": {},
     "output_type": "execute_result"
    }
   ],
   "source": [
    "data['Location'].unique()"
   ]
  },
  {
   "cell_type": "code",
   "execution_count": 5,
   "id": "a93d25c3-9b26-418f-bec4-e69b3aaf9a85",
   "metadata": {},
   "outputs": [
    {
     "data": {
      "text/plain": [
       "333"
      ]
     },
     "execution_count": 5,
     "metadata": {},
     "output_type": "execute_result"
    }
   ],
   "source": [
    "# Item = NaN\n",
    "len(data.loc[data['Item'].isna(), 'Item'])"
   ]
  },
  {
   "cell_type": "code",
   "execution_count": 4,
   "id": "f6d69cfd-d4b7-45ee-a067-f4669796dd19",
   "metadata": {},
   "outputs": [
    {
     "data": {
      "text/plain": [
       "np.int64(636)"
      ]
     },
     "execution_count": 4,
     "metadata": {},
     "output_type": "execute_result"
    }
   ],
   "source": [
    "# Item = UNKNOWN ou ERROR\n",
    "data.loc[(data['Item'] == 'UNKNOWN') | (data['Item'] == 'ERROR'), 'Item'].count()"
   ]
  },
  {
   "cell_type": "code",
   "execution_count": 7,
   "id": "439c5df4-4247-4f80-8dad-f3b29841034d",
   "metadata": {},
   "outputs": [
    {
     "data": {
      "text/plain": [
       "2579"
      ]
     },
     "execution_count": 7,
     "metadata": {},
     "output_type": "execute_result"
    }
   ],
   "source": [
    "# Payment Method = NaN\n",
    "len(data.loc[data['Payment Method'].isna(), 'Payment Method'])"
   ]
  },
  {
   "cell_type": "code",
   "execution_count": 8,
   "id": "e3192bd1-516d-4d74-ab7f-2f70439778bb",
   "metadata": {},
   "outputs": [
    {
     "data": {
      "text/plain": [
       "np.int64(599)"
      ]
     },
     "execution_count": 8,
     "metadata": {},
     "output_type": "execute_result"
    }
   ],
   "source": [
    "# Payment Method = UNKNOWN ou ERROR\n",
    "data.loc[(data['Payment Method'] == 'UNKNOWN') | (data['Payment Method'] == 'ERROR'), 'Payment Method'].count()"
   ]
  },
  {
   "cell_type": "markdown",
   "id": "1894b3de-ad67-4f85-82ec-747ec237f9a3",
   "metadata": {},
   "source": [
    "Optou-se por analisar quais os possíveis Itens que foram preenchidos como NaN, \"ERROR\" e UNKNOWN\".\n",
    "\n",
    "Explicação do codigo a seguir: Agrupamento de dados por Item com retorno da coluna Price Per Unit, contagem de ocorrências do preço em cada Item e organização em colunas com \"unstack\"."
   ]
  },
  {
   "cell_type": "code",
   "execution_count": 5,
   "id": "790bdd9b-dd54-4c7f-ae06-ace2eced20b3",
   "metadata": {},
   "outputs": [
    {
     "data": {
      "text/html": [
       "<div>\n",
       "<style scoped>\n",
       "    .dataframe tbody tr th:only-of-type {\n",
       "        vertical-align: middle;\n",
       "    }\n",
       "\n",
       "    .dataframe tbody tr th {\n",
       "        vertical-align: top;\n",
       "    }\n",
       "\n",
       "    .dataframe thead th {\n",
       "        text-align: right;\n",
       "    }\n",
       "</style>\n",
       "<table border=\"1\" class=\"dataframe\">\n",
       "  <thead>\n",
       "    <tr style=\"text-align: right;\">\n",
       "      <th>Price Per Unit</th>\n",
       "      <th>1.0</th>\n",
       "      <th>1.5</th>\n",
       "      <th>2.0</th>\n",
       "      <th>3.0</th>\n",
       "      <th>4.0</th>\n",
       "      <th>5.0</th>\n",
       "    </tr>\n",
       "    <tr>\n",
       "      <th>Item</th>\n",
       "      <th></th>\n",
       "      <th></th>\n",
       "      <th></th>\n",
       "      <th></th>\n",
       "      <th></th>\n",
       "      <th></th>\n",
       "    </tr>\n",
       "  </thead>\n",
       "  <tbody>\n",
       "    <tr>\n",
       "      <th>Cake</th>\n",
       "      <td>0.0</td>\n",
       "      <td>0.0</td>\n",
       "      <td>0.0</td>\n",
       "      <td>1139.0</td>\n",
       "      <td>0.0</td>\n",
       "      <td>0.0</td>\n",
       "    </tr>\n",
       "    <tr>\n",
       "      <th>Coffee</th>\n",
       "      <td>0.0</td>\n",
       "      <td>0.0</td>\n",
       "      <td>1165.0</td>\n",
       "      <td>0.0</td>\n",
       "      <td>0.0</td>\n",
       "      <td>0.0</td>\n",
       "    </tr>\n",
       "    <tr>\n",
       "      <th>Cookie</th>\n",
       "      <td>1092.0</td>\n",
       "      <td>0.0</td>\n",
       "      <td>0.0</td>\n",
       "      <td>0.0</td>\n",
       "      <td>0.0</td>\n",
       "      <td>0.0</td>\n",
       "    </tr>\n",
       "    <tr>\n",
       "      <th>ERROR</th>\n",
       "      <td>34.0</td>\n",
       "      <td>37.0</td>\n",
       "      <td>31.0</td>\n",
       "      <td>77.0</td>\n",
       "      <td>61.0</td>\n",
       "      <td>39.0</td>\n",
       "    </tr>\n",
       "    <tr>\n",
       "      <th>Juice</th>\n",
       "      <td>0.0</td>\n",
       "      <td>0.0</td>\n",
       "      <td>0.0</td>\n",
       "      <td>1171.0</td>\n",
       "      <td>0.0</td>\n",
       "      <td>0.0</td>\n",
       "    </tr>\n",
       "    <tr>\n",
       "      <th>Salad</th>\n",
       "      <td>0.0</td>\n",
       "      <td>0.0</td>\n",
       "      <td>0.0</td>\n",
       "      <td>0.0</td>\n",
       "      <td>0.0</td>\n",
       "      <td>1148.0</td>\n",
       "    </tr>\n",
       "    <tr>\n",
       "      <th>Sandwich</th>\n",
       "      <td>0.0</td>\n",
       "      <td>0.0</td>\n",
       "      <td>0.0</td>\n",
       "      <td>0.0</td>\n",
       "      <td>1131.0</td>\n",
       "      <td>0.0</td>\n",
       "    </tr>\n",
       "    <tr>\n",
       "      <th>Smoothie</th>\n",
       "      <td>0.0</td>\n",
       "      <td>0.0</td>\n",
       "      <td>0.0</td>\n",
       "      <td>0.0</td>\n",
       "      <td>1096.0</td>\n",
       "      <td>0.0</td>\n",
       "    </tr>\n",
       "    <tr>\n",
       "      <th>Tea</th>\n",
       "      <td>0.0</td>\n",
       "      <td>1089.0</td>\n",
       "      <td>0.0</td>\n",
       "      <td>0.0</td>\n",
       "      <td>0.0</td>\n",
       "      <td>0.0</td>\n",
       "    </tr>\n",
       "    <tr>\n",
       "      <th>UNKNOWN</th>\n",
       "      <td>45.0</td>\n",
       "      <td>40.0</td>\n",
       "      <td>49.0</td>\n",
       "      <td>77.0</td>\n",
       "      <td>70.0</td>\n",
       "      <td>45.0</td>\n",
       "    </tr>\n",
       "  </tbody>\n",
       "</table>\n",
       "</div>"
      ],
      "text/plain": [
       "Price Per Unit     1.0     1.5     2.0     3.0     4.0     5.0\n",
       "Item                                                          \n",
       "Cake               0.0     0.0     0.0  1139.0     0.0     0.0\n",
       "Coffee             0.0     0.0  1165.0     0.0     0.0     0.0\n",
       "Cookie          1092.0     0.0     0.0     0.0     0.0     0.0\n",
       "ERROR             34.0    37.0    31.0    77.0    61.0    39.0\n",
       "Juice              0.0     0.0     0.0  1171.0     0.0     0.0\n",
       "Salad              0.0     0.0     0.0     0.0     0.0  1148.0\n",
       "Sandwich           0.0     0.0     0.0     0.0  1131.0     0.0\n",
       "Smoothie           0.0     0.0     0.0     0.0  1096.0     0.0\n",
       "Tea                0.0  1089.0     0.0     0.0     0.0     0.0\n",
       "UNKNOWN           45.0    40.0    49.0    77.0    70.0    45.0"
      ]
     },
     "execution_count": 5,
     "metadata": {},
     "output_type": "execute_result"
    }
   ],
   "source": [
    "# Verificação de Price Per Unit em relação a cada item (numero de ocorrências)\n",
    "data.groupby('Item')['Price Per Unit'].value_counts().unstack().fillna(0) "
   ]
  },
  {
   "cell_type": "markdown",
   "id": "45883e34-a1ea-4a0c-919d-2a7f8f105c6d",
   "metadata": {},
   "source": [
    "A função seguinte permite descobrir com que frequência cada combinação de Item, Quantity e Price Per Unit aparece."
   ]
  },
  {
   "cell_type": "code",
   "execution_count": 11,
   "id": "8f0967e3-3f4e-4e99-a6d9-ca7511963137",
   "metadata": {},
   "outputs": [
    {
     "data": {
      "text/html": [
       "<div>\n",
       "<style scoped>\n",
       "    .dataframe tbody tr th:only-of-type {\n",
       "        vertical-align: middle;\n",
       "    }\n",
       "\n",
       "    .dataframe tbody tr th {\n",
       "        vertical-align: top;\n",
       "    }\n",
       "\n",
       "    .dataframe thead th {\n",
       "        text-align: right;\n",
       "    }\n",
       "</style>\n",
       "<table border=\"1\" class=\"dataframe\">\n",
       "  <thead>\n",
       "    <tr style=\"text-align: right;\">\n",
       "      <th></th>\n",
       "      <th>Quantity</th>\n",
       "      <th>Price Per Unit</th>\n",
       "      <th>Item</th>\n",
       "      <th>count</th>\n",
       "    </tr>\n",
       "  </thead>\n",
       "  <tbody>\n",
       "    <tr>\n",
       "      <th>34</th>\n",
       "      <td>5.0</td>\n",
       "      <td>2.0</td>\n",
       "      <td>Coffee</td>\n",
       "      <td>258</td>\n",
       "    </tr>\n",
       "    <tr>\n",
       "      <th>35</th>\n",
       "      <td>5.0</td>\n",
       "      <td>3.0</td>\n",
       "      <td>Cake</td>\n",
       "      <td>255</td>\n",
       "    </tr>\n",
       "    <tr>\n",
       "      <th>37</th>\n",
       "      <td>5.0</td>\n",
       "      <td>4.0</td>\n",
       "      <td>Sandwich</td>\n",
       "      <td>254</td>\n",
       "    </tr>\n",
       "    <tr>\n",
       "      <th>39</th>\n",
       "      <td>5.0</td>\n",
       "      <td>5.0</td>\n",
       "      <td>Salad</td>\n",
       "      <td>248</td>\n",
       "    </tr>\n",
       "    <tr>\n",
       "      <th>20</th>\n",
       "      <td>3.0</td>\n",
       "      <td>3.0</td>\n",
       "      <td>Juice</td>\n",
       "      <td>244</td>\n",
       "    </tr>\n",
       "  </tbody>\n",
       "</table>\n",
       "</div>"
      ],
      "text/plain": [
       "    Quantity  Price Per Unit      Item  count\n",
       "34       5.0             2.0    Coffee    258\n",
       "35       5.0             3.0      Cake    255\n",
       "37       5.0             4.0  Sandwich    254\n",
       "39       5.0             5.0     Salad    248\n",
       "20       3.0             3.0     Juice    244"
      ]
     },
     "execution_count": 11,
     "metadata": {},
     "output_type": "execute_result"
    }
   ],
   "source": [
    "# Verificando a moda de Quantity em cada Item\n",
    "item_group = (\n",
    "    data[~data['Item'].isin(['UNKNOWN', 'ERROR']) & data['Item'].notna()] # Apenas valores não nulos e sem erro\n",
    "    .groupby(['Quantity', 'Price Per Unit', 'Item'])\n",
    "    .size() #Aqui é onde aparece a contagem de quantas vezes a combinação apareceu\n",
    "    .reset_index(name='count') # Coluna count no dataframe (onde armazena o count)\n",
    "    .sort_values('count',ascending=False) # Ordena da combinação mais frequente até a menos frequente\n",
    ")\n",
    "item_group.head()"
   ]
  },
  {
   "cell_type": "markdown",
   "id": "dca851f0-7bde-4045-9668-102e774cf50e",
   "metadata": {},
   "source": [
    "Agora, fazemos o preenchimento dos Itens com base no Price Per Unit e Quantity:\n",
    "\n",
    "Passo 1: Criar uma cópia dos dados para aplicar a máscara (item_group);\n",
    "\n",
    "Passo 2: Criar a máscara com os dados desconhecidos;\n",
    "\n",
    "Passo 3: Iterar sobre a cópia dos dados para aplicar as mudanças."
   ]
  },
  {
   "cell_type": "code",
   "execution_count": 7,
   "id": "ca51bd87-7ba3-42fd-9778-b34e5d279f10",
   "metadata": {},
   "outputs": [],
   "source": [
    "# Copia dos dados\n",
    "data_copy = data.copy()\n",
    "\n",
    "# Criação da mascara com a copia\n",
    "mask = (data_copy['Item'].isin(['UNKNOWN', 'ERROR']) | (data['Item'].isna()))"
   ]
  },
  {
   "cell_type": "code",
   "execution_count": 8,
   "id": "176e860b-1de2-43a3-bbd8-4a62fbaf2884",
   "metadata": {},
   "outputs": [],
   "source": [
    "# Iterando sobre a copia dos dados com base na mask\n",
    "for i, row in data_copy[mask].iterrows():\n",
    "    price = row['Price Per Unit']\n",
    "    quant = row['Quantity']\n",
    "\n",
    "   # Procura a combinação no df\n",
    "    match = item_group[\n",
    "    np.isclose(item_group['Price Per Unit'], price, rtol=1e-03) &\n",
    "    (item_group['Quantity'] == quant) \n",
    "    ]\n",
    "\n",
    "    # Aplicando o match se encontrar correspondência\n",
    "    if not match.empty:\n",
    "        data_copy.at[i, 'Item'] = match.iloc[0]['Item']"
   ]
  },
  {
   "cell_type": "code",
   "execution_count": 9,
   "id": "3c31d588-56b5-4471-94db-1abc0db1d22e",
   "metadata": {},
   "outputs": [
    {
     "data": {
      "text/plain": [
       "Item\n",
       "Juice       1359\n",
       "Sandwich    1301\n",
       "Coffee      1284\n",
       "Salad       1270\n",
       "Cookie      1209\n",
       "Tea         1199\n",
       "Cake        1185\n",
       "Smoothie    1139\n",
       "NaN           23\n",
       "UNKNOWN       18\n",
       "ERROR         13\n",
       "Name: count, dtype: int64"
      ]
     },
     "execution_count": 9,
     "metadata": {},
     "output_type": "execute_result"
    }
   ],
   "source": [
    "data_copy['Item'].value_counts(dropna=False)"
   ]
  },
  {
   "cell_type": "code",
   "execution_count": 10,
   "id": "4f3ada1e-36f6-4c60-a3af-d1e3c20cd623",
   "metadata": {},
   "outputs": [],
   "source": [
    "data_copy.to_pickle('../data/data_step2.pkl')"
   ]
  }
 ],
 "metadata": {
  "kernelspec": {
   "display_name": "Python 3 (ipykernel)",
   "language": "python",
   "name": "python3"
  },
  "language_info": {
   "codemirror_mode": {
    "name": "ipython",
    "version": 3
   },
   "file_extension": ".py",
   "mimetype": "text/x-python",
   "name": "python",
   "nbconvert_exporter": "python",
   "pygments_lexer": "ipython3",
   "version": "3.10.12"
  }
 },
 "nbformat": 4,
 "nbformat_minor": 5
}
