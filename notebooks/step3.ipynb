{
 "cells": [
  {
   "cell_type": "code",
   "execution_count": 1,
   "id": "e33172bc-8977-4a4c-b0e9-ae8296d55167",
   "metadata": {},
   "outputs": [
    {
     "data": {
      "text/html": [
       "<div>\n",
       "<style scoped>\n",
       "    .dataframe tbody tr th:only-of-type {\n",
       "        vertical-align: middle;\n",
       "    }\n",
       "\n",
       "    .dataframe tbody tr th {\n",
       "        vertical-align: top;\n",
       "    }\n",
       "\n",
       "    .dataframe thead th {\n",
       "        text-align: right;\n",
       "    }\n",
       "</style>\n",
       "<table border=\"1\" class=\"dataframe\">\n",
       "  <thead>\n",
       "    <tr style=\"text-align: right;\">\n",
       "      <th></th>\n",
       "      <th>Transaction ID</th>\n",
       "      <th>Item</th>\n",
       "      <th>Quantity</th>\n",
       "      <th>Price Per Unit</th>\n",
       "      <th>Total Spent</th>\n",
       "      <th>Payment Method</th>\n",
       "      <th>Location</th>\n",
       "      <th>Transaction Date</th>\n",
       "    </tr>\n",
       "  </thead>\n",
       "  <tbody>\n",
       "    <tr>\n",
       "      <th>0</th>\n",
       "      <td>TXN_1961373</td>\n",
       "      <td>Coffee</td>\n",
       "      <td>2.0</td>\n",
       "      <td>2.0</td>\n",
       "      <td>4.0</td>\n",
       "      <td>Credit Card</td>\n",
       "      <td>Takeaway</td>\n",
       "      <td>2023-09-08</td>\n",
       "    </tr>\n",
       "    <tr>\n",
       "      <th>1</th>\n",
       "      <td>TXN_4977031</td>\n",
       "      <td>Cake</td>\n",
       "      <td>4.0</td>\n",
       "      <td>3.0</td>\n",
       "      <td>12.0</td>\n",
       "      <td>Cash</td>\n",
       "      <td>In-store</td>\n",
       "      <td>2023-05-16</td>\n",
       "    </tr>\n",
       "    <tr>\n",
       "      <th>2</th>\n",
       "      <td>TXN_4271903</td>\n",
       "      <td>Cookie</td>\n",
       "      <td>4.0</td>\n",
       "      <td>1.0</td>\n",
       "      <td>4.0</td>\n",
       "      <td>Credit Card</td>\n",
       "      <td>In-store</td>\n",
       "      <td>2023-07-19</td>\n",
       "    </tr>\n",
       "    <tr>\n",
       "      <th>3</th>\n",
       "      <td>TXN_7034554</td>\n",
       "      <td>Salad</td>\n",
       "      <td>2.0</td>\n",
       "      <td>5.0</td>\n",
       "      <td>10.0</td>\n",
       "      <td>UNKNOWN</td>\n",
       "      <td>UNKNOWN</td>\n",
       "      <td>2023-04-27</td>\n",
       "    </tr>\n",
       "    <tr>\n",
       "      <th>4</th>\n",
       "      <td>TXN_3160411</td>\n",
       "      <td>Coffee</td>\n",
       "      <td>2.0</td>\n",
       "      <td>2.0</td>\n",
       "      <td>4.0</td>\n",
       "      <td>Digital Wallet</td>\n",
       "      <td>In-store</td>\n",
       "      <td>2023-06-11</td>\n",
       "    </tr>\n",
       "  </tbody>\n",
       "</table>\n",
       "</div>"
      ],
      "text/plain": [
       "  Transaction ID    Item  Quantity  Price Per Unit  Total Spent  \\\n",
       "0    TXN_1961373  Coffee       2.0             2.0          4.0   \n",
       "1    TXN_4977031    Cake       4.0             3.0         12.0   \n",
       "2    TXN_4271903  Cookie       4.0             1.0          4.0   \n",
       "3    TXN_7034554   Salad       2.0             5.0         10.0   \n",
       "4    TXN_3160411  Coffee       2.0             2.0          4.0   \n",
       "\n",
       "   Payment Method  Location Transaction Date  \n",
       "0     Credit Card  Takeaway       2023-09-08  \n",
       "1            Cash  In-store       2023-05-16  \n",
       "2     Credit Card  In-store       2023-07-19  \n",
       "3         UNKNOWN   UNKNOWN       2023-04-27  \n",
       "4  Digital Wallet  In-store       2023-06-11  "
      ]
     },
     "execution_count": 1,
     "metadata": {},
     "output_type": "execute_result"
    }
   ],
   "source": [
    "import pandas as pd\n",
    "import numpy as np\n",
    "\n",
    "data = pd.read_pickle('../data/data_step2.pkl')\n",
    "data.head()"
   ]
  },
  {
   "cell_type": "code",
   "execution_count": 6,
   "id": "3dea8d69-44c8-4d00-a2a8-5b2e0a1f0c0b",
   "metadata": {},
   "outputs": [
    {
     "data": {
      "text/plain": [
       "np.int64(31)"
      ]
     },
     "execution_count": 6,
     "metadata": {},
     "output_type": "execute_result"
    }
   ],
   "source": [
    "data.loc[(data['Item'] == 'UNKNOWN') | (data['Item'] == 'ERROR'), 'Item'].count()"
   ]
  },
  {
   "cell_type": "code",
   "execution_count": 3,
   "id": "0fe77675-d2c2-4814-9f7b-c896b199a2cd",
   "metadata": {},
   "outputs": [
    {
     "data": {
      "text/html": [
       "<div>\n",
       "<style scoped>\n",
       "    .dataframe tbody tr th:only-of-type {\n",
       "        vertical-align: middle;\n",
       "    }\n",
       "\n",
       "    .dataframe tbody tr th {\n",
       "        vertical-align: top;\n",
       "    }\n",
       "\n",
       "    .dataframe thead th {\n",
       "        text-align: right;\n",
       "    }\n",
       "</style>\n",
       "<table border=\"1\" class=\"dataframe\">\n",
       "  <thead>\n",
       "    <tr style=\"text-align: right;\">\n",
       "      <th>Price Per Unit</th>\n",
       "      <th>1.0</th>\n",
       "      <th>1.5</th>\n",
       "      <th>2.0</th>\n",
       "      <th>3.0</th>\n",
       "      <th>4.0</th>\n",
       "      <th>5.0</th>\n",
       "    </tr>\n",
       "    <tr>\n",
       "      <th>Item</th>\n",
       "      <th></th>\n",
       "      <th></th>\n",
       "      <th></th>\n",
       "      <th></th>\n",
       "      <th></th>\n",
       "      <th></th>\n",
       "    </tr>\n",
       "  </thead>\n",
       "  <tbody>\n",
       "    <tr>\n",
       "      <th>Cake</th>\n",
       "      <td>0.0</td>\n",
       "      <td>0.0</td>\n",
       "      <td>0.0</td>\n",
       "      <td>1185.0</td>\n",
       "      <td>0.0</td>\n",
       "      <td>0.0</td>\n",
       "    </tr>\n",
       "    <tr>\n",
       "      <th>Coffee</th>\n",
       "      <td>0.0</td>\n",
       "      <td>0.0</td>\n",
       "      <td>1284.0</td>\n",
       "      <td>0.0</td>\n",
       "      <td>0.0</td>\n",
       "      <td>0.0</td>\n",
       "    </tr>\n",
       "    <tr>\n",
       "      <th>Cookie</th>\n",
       "      <td>1209.0</td>\n",
       "      <td>0.0</td>\n",
       "      <td>0.0</td>\n",
       "      <td>0.0</td>\n",
       "      <td>0.0</td>\n",
       "      <td>0.0</td>\n",
       "    </tr>\n",
       "    <tr>\n",
       "      <th>Juice</th>\n",
       "      <td>0.0</td>\n",
       "      <td>0.0</td>\n",
       "      <td>0.0</td>\n",
       "      <td>1359.0</td>\n",
       "      <td>0.0</td>\n",
       "      <td>0.0</td>\n",
       "    </tr>\n",
       "    <tr>\n",
       "      <th>Salad</th>\n",
       "      <td>0.0</td>\n",
       "      <td>0.0</td>\n",
       "      <td>0.0</td>\n",
       "      <td>0.0</td>\n",
       "      <td>0.0</td>\n",
       "      <td>1270.0</td>\n",
       "    </tr>\n",
       "    <tr>\n",
       "      <th>Sandwich</th>\n",
       "      <td>0.0</td>\n",
       "      <td>0.0</td>\n",
       "      <td>0.0</td>\n",
       "      <td>0.0</td>\n",
       "      <td>1301.0</td>\n",
       "      <td>0.0</td>\n",
       "    </tr>\n",
       "    <tr>\n",
       "      <th>Smoothie</th>\n",
       "      <td>0.0</td>\n",
       "      <td>0.0</td>\n",
       "      <td>0.0</td>\n",
       "      <td>0.0</td>\n",
       "      <td>1139.0</td>\n",
       "      <td>0.0</td>\n",
       "    </tr>\n",
       "    <tr>\n",
       "      <th>Tea</th>\n",
       "      <td>0.0</td>\n",
       "      <td>1199.0</td>\n",
       "      <td>0.0</td>\n",
       "      <td>0.0</td>\n",
       "      <td>0.0</td>\n",
       "      <td>0.0</td>\n",
       "    </tr>\n",
       "  </tbody>\n",
       "</table>\n",
       "</div>"
      ],
      "text/plain": [
       "Price Per Unit     1.0     1.5     2.0     3.0     4.0     5.0\n",
       "Item                                                          \n",
       "Cake               0.0     0.0     0.0  1185.0     0.0     0.0\n",
       "Coffee             0.0     0.0  1284.0     0.0     0.0     0.0\n",
       "Cookie          1209.0     0.0     0.0     0.0     0.0     0.0\n",
       "Juice              0.0     0.0     0.0  1359.0     0.0     0.0\n",
       "Salad              0.0     0.0     0.0     0.0     0.0  1270.0\n",
       "Sandwich           0.0     0.0     0.0     0.0  1301.0     0.0\n",
       "Smoothie           0.0     0.0     0.0     0.0  1139.0     0.0\n",
       "Tea                0.0  1199.0     0.0     0.0     0.0     0.0"
      ]
     },
     "execution_count": 3,
     "metadata": {},
     "output_type": "execute_result"
    }
   ],
   "source": [
    "data.groupby('Item')['Price Per Unit'].value_counts().unstack().fillna(0) "
   ]
  },
  {
   "cell_type": "markdown",
   "id": "a7459cb8-cf0f-44b9-808c-e8090973f9db",
   "metadata": {},
   "source": [
    "Como apenas 31 tuplas apresentavam valores com erro na coluna Item, eles foram apagados:"
   ]
  },
  {
   "cell_type": "code",
   "execution_count": 2,
   "id": "65188b39-e864-4aba-9718-5e8a89dc1579",
   "metadata": {},
   "outputs": [],
   "source": [
    "data_cleaned = data[~data['Item'].isin(['UNKNOWN', 'ERROR'])]\n",
    "data_cleaned = data_cleaned[data_cleaned['Item'].notna()]"
   ]
  },
  {
   "cell_type": "code",
   "execution_count": 3,
   "id": "84cece31-a4cd-4253-859f-e3af0752d6aa",
   "metadata": {
    "scrolled": true
   },
   "outputs": [
    {
     "data": {
      "text/plain": [
       "array(['Coffee', 'Cake', 'Cookie', 'Salad', 'Smoothie', 'Juice',\n",
       "       'Sandwich', 'Tea'], dtype=object)"
      ]
     },
     "execution_count": 3,
     "metadata": {},
     "output_type": "execute_result"
    }
   ],
   "source": [
    "data_cleaned['Item'].unique()"
   ]
  },
  {
   "cell_type": "markdown",
   "id": "fc7ec1a1-ae86-4219-bfa9-e1515fa00657",
   "metadata": {},
   "source": [
    "Optou-se por preencher os valores nulos, com UNKNOWN ou ERROR na coluna Payment Method com base no agrupamento de valores possíveis que possam se encaixar."
   ]
  },
  {
   "cell_type": "code",
   "execution_count": 11,
   "id": "c1c9a167-6539-4d6f-ab3b-9792bd0854b7",
   "metadata": {},
   "outputs": [
    {
     "data": {
      "text/plain": [
       "np.int64(595)"
      ]
     },
     "execution_count": 11,
     "metadata": {},
     "output_type": "execute_result"
    }
   ],
   "source": [
    "data_cleaned.loc[(data_cleaned['Payment Method'].isin(['UNKNOWN','ERROR'])) | \n",
    "                (data_cleaned['Payment Method'].isna()), 'Payment Method'].count()"
   ]
  },
  {
   "cell_type": "code",
   "execution_count": 5,
   "id": "085c73e0-f409-44f2-872f-38ac3e1b0c5a",
   "metadata": {},
   "outputs": [
    {
     "data": {
      "text/html": [
       "<div>\n",
       "<style scoped>\n",
       "    .dataframe tbody tr th:only-of-type {\n",
       "        vertical-align: middle;\n",
       "    }\n",
       "\n",
       "    .dataframe tbody tr th {\n",
       "        vertical-align: top;\n",
       "    }\n",
       "\n",
       "    .dataframe thead th {\n",
       "        text-align: right;\n",
       "    }\n",
       "</style>\n",
       "<table border=\"1\" class=\"dataframe\">\n",
       "  <thead>\n",
       "    <tr style=\"text-align: right;\">\n",
       "      <th></th>\n",
       "      <th>Item</th>\n",
       "      <th>Quantity</th>\n",
       "      <th>Price Per Unit</th>\n",
       "      <th>Payment Method</th>\n",
       "      <th>count</th>\n",
       "    </tr>\n",
       "  </thead>\n",
       "  <tbody>\n",
       "    <tr>\n",
       "      <th>50</th>\n",
       "      <td>Juice</td>\n",
       "      <td>2.0</td>\n",
       "      <td>3.0</td>\n",
       "      <td>Digital Wallet</td>\n",
       "      <td>84</td>\n",
       "    </tr>\n",
       "    <tr>\n",
       "      <th>89</th>\n",
       "      <td>Sandwich</td>\n",
       "      <td>5.0</td>\n",
       "      <td>4.0</td>\n",
       "      <td>Digital Wallet</td>\n",
       "      <td>84</td>\n",
       "    </tr>\n",
       "    <tr>\n",
       "      <th>48</th>\n",
       "      <td>Juice</td>\n",
       "      <td>2.0</td>\n",
       "      <td>3.0</td>\n",
       "      <td>Cash</td>\n",
       "      <td>77</td>\n",
       "    </tr>\n",
       "    <tr>\n",
       "      <th>35</th>\n",
       "      <td>Cookie</td>\n",
       "      <td>2.0</td>\n",
       "      <td>1.0</td>\n",
       "      <td>Digital Wallet</td>\n",
       "      <td>73</td>\n",
       "    </tr>\n",
       "    <tr>\n",
       "      <th>64</th>\n",
       "      <td>Salad</td>\n",
       "      <td>2.0</td>\n",
       "      <td>5.0</td>\n",
       "      <td>Credit Card</td>\n",
       "      <td>72</td>\n",
       "    </tr>\n",
       "  </tbody>\n",
       "</table>\n",
       "</div>"
      ],
      "text/plain": [
       "        Item  Quantity  Price Per Unit  Payment Method  count\n",
       "50     Juice       2.0             3.0  Digital Wallet     84\n",
       "89  Sandwich       5.0             4.0  Digital Wallet     84\n",
       "48     Juice       2.0             3.0            Cash     77\n",
       "35    Cookie       2.0             1.0  Digital Wallet     73\n",
       "64     Salad       2.0             5.0     Credit Card     72"
      ]
     },
     "execution_count": 5,
     "metadata": {},
     "output_type": "execute_result"
    }
   ],
   "source": [
    "payment_group = (\n",
    "    data_cleaned[\n",
    "    ~data_cleaned['Payment Method'].isin(['UNKNOWN','ERROR'])\n",
    "    & data_cleaned['Payment Method'].notna()\n",
    "    ]\n",
    "    .groupby(['Item','Quantity','Price Per Unit','Payment Method'])\n",
    "    .size() # Contagem das ocorrencias\n",
    "    .reset_index(name='count')\n",
    "    .sort_values('count', ascending=False)\n",
    ")\n",
    "payment_group.head()"
   ]
  },
  {
   "cell_type": "code",
   "execution_count": 19,
   "id": "17417292-f7cd-4cf4-b511-6617b82b38fd",
   "metadata": {},
   "outputs": [],
   "source": [
    "# Copia dos dados \n",
    "data_copy = data_cleaned.copy()\n",
    "\n",
    "# Mask dos dados ausentes e com erro\n",
    "mask = (data_copy['Payment Method'].isin(['UNKNOWN','ERROR']) | data_copy['Payment Method'].isna())"
   ]
  },
  {
   "cell_type": "code",
   "execution_count": 20,
   "id": "9c4990a5-5923-49a5-95ff-49fcf2c89745",
   "metadata": {},
   "outputs": [],
   "source": [
    "# Iteração sobre o dataframe\n",
    "for i,row in data_copy[mask].iterrows():\n",
    "    item = row['Item']\n",
    "    price = row['Price Per Unit']\n",
    "    quant = row['Quantity']\n",
    "\n",
    "    # Avaliando o match com as cobinações\n",
    "    match = payment_group [\n",
    "        (payment_group['Item'] == item) &\n",
    "        (payment_group['Quantity'] == quant) &\n",
    "        np.isclose(payment_group['Price Per Unit'], price, rtol=1e-03)\n",
    "    ]\n",
    "\n",
    "    # Preechimento com base na primeira tupla que tem a combinação\n",
    "    if not match.empty:\n",
    "        data_copy.at[i, 'Payment Method'] = match.iloc[0]['Payment Method']"
   ]
  },
  {
   "cell_type": "code",
   "execution_count": 21,
   "id": "4e176366-bc35-43f0-ab2a-a4b8b2931dc2",
   "metadata": {},
   "outputs": [
    {
     "data": {
      "text/plain": [
       "np.int64(0)"
      ]
     },
     "execution_count": 21,
     "metadata": {},
     "output_type": "execute_result"
    }
   ],
   "source": [
    "data_copy.loc[(data_copy['Payment Method'].isin(['UNKNOWN', 'ERROR'])) | \n",
    "               (data_copy['Payment Method'].isna()), 'Payment Method'].count()"
   ]
  },
  {
   "cell_type": "code",
   "execution_count": 22,
   "id": "fed5305f-00b7-4cd5-b4ea-7b2824754682",
   "metadata": {},
   "outputs": [],
   "source": [
    "data_copy.to_csv('../data/data_cleaned.csv')"
   ]
  }
 ],
 "metadata": {
  "kernelspec": {
   "display_name": "Python 3 (ipykernel)",
   "language": "python",
   "name": "python3"
  },
  "language_info": {
   "codemirror_mode": {
    "name": "ipython",
    "version": 3
   },
   "file_extension": ".py",
   "mimetype": "text/x-python",
   "name": "python",
   "nbconvert_exporter": "python",
   "pygments_lexer": "ipython3",
   "version": "3.10.12"
  }
 },
 "nbformat": 4,
 "nbformat_minor": 5
}
